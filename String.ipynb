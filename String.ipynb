{
 "cells": [
  {
   "cell_type": "code",
   "execution_count": 1,
   "id": "0c55fbdc",
   "metadata": {},
   "outputs": [
    {
     "name": "stdout",
     "output_type": "stream",
     "text": [
      "Enter a string: Hi I am Gauri\n",
      "Length of the input string is: 13\n"
     ]
    }
   ],
   "source": [
    "#1. Write a python program find the number of characters present in a string (with out using len())\n",
    "\n",
    "str = input(\"Enter a string: \")\n",
    "\n",
    "\n",
    "counter = 0\n",
    "for s in str:\n",
    "      counter = counter+1\n",
    "print(\"Length of the input string is:\", counter)"
   ]
  },
  {
   "cell_type": "code",
   "execution_count": 2,
   "id": "e9993963",
   "metadata": {},
   "outputs": [
    {
     "name": "stdout",
     "output_type": "stream",
     "text": [
      "No. of vowels : 8\n"
     ]
    }
   ],
   "source": [
    "#2. Write a python program to count the number occurrences all vowels present in a string\n",
    "\n",
    "def vowel_count(str):\n",
    "      \n",
    "    count = 0\n",
    "   \n",
    "    vowel = set(\"aeiouAEIOU\")\n",
    "      \n",
    "    for alphabet in str:\n",
    "      \n",
    "        if alphabet in vowel:\n",
    "            count = count + 1\n",
    "      \n",
    "    print(\"No. of vowels :\", count)\n",
    "      \n",
    "\n",
    "str = \"HiGauriNapahade\"\n",
    "vowel_count(str)"
   ]
  },
  {
   "cell_type": "code",
   "execution_count": 3,
   "id": "ae159412",
   "metadata": {},
   "outputs": [
    {
     "name": "stdout",
     "output_type": "stream",
     "text": [
      "hlo\n"
     ]
    }
   ],
   "source": [
    "# 3.Function to print common characters of two Strings  \n",
    "from collections import Counter \n",
    "  \n",
    "def common(str1,str2): \n",
    "      \n",
    "    dict1 = Counter(str1) \n",
    "    dict2 = Counter(str2) \n",
    "  \n",
    "     \n",
    "    commonDict = dict1 & dict2 \n",
    "  \n",
    "    if len(commonDict) == 0: \n",
    "        print (-1)\n",
    "        return\n",
    "  \n",
    "    \n",
    "    commonChars = list(commonDict.elements()) \n",
    "    commonChars = sorted(commonChars) \n",
    "  \n",
    "    print (''.join(commonChars)) \n",
    "if __name__ == \"__main__\": \n",
    "    str1 = 'helllo'\n",
    "    str2 = 'hiolr'\n",
    "    common(str1, str2)"
   ]
  },
  {
   "cell_type": "code",
   "execution_count": 7,
   "id": "837c7dd0",
   "metadata": {},
   "outputs": [
    {
     "name": "stdout",
     "output_type": "stream",
     "text": [
      "Yes\n"
     ]
    }
   ],
   "source": [
    "#4. Write a python program to check the given string is palindrome or not\n",
    "\n",
    "def isPalindrome(s):\n",
    "    return s == s[::-1]\n",
    "s = \"malayalam\" \n",
    "#s = \"hello\"\n",
    "ans = isPalindrome(s)\n",
    " \n",
    "if ans:\n",
    "    print(\"Yes\")\n",
    "else:\n",
    "    print(\"No\")"
   ]
  },
  {
   "cell_type": "code",
   "execution_count": 1,
   "id": "e444c01b",
   "metadata": {},
   "outputs": [
    {
     "name": "stdout",
     "output_type": "stream",
     "text": [
      "HeLlO WoRlD\n"
     ]
    }
   ],
   "source": [
    "#5. Write a python program to convert alternate characters to capital letters\n",
    "\n",
    "\n",
    "x=\"hello world\"\n",
    "y=''\n",
    "i=0\n",
    "while(i<len(x)):\n",
    "    if(i%2==0):\n",
    "        y=y+(x[i].upper())\n",
    "    else:\n",
    "        y=y+x[i]\n",
    "    i=i+1        \n",
    "print(y)"
   ]
  },
  {
   "cell_type": "code",
   "execution_count": 4,
   "id": "1a86492a",
   "metadata": {},
   "outputs": [
    {
     "name": "stdout",
     "output_type": "stream",
     "text": [
      "The original string  is : Hello Hi Good Morning\n",
      "The reversed string(using loops) is : gninroM dooG iH olleH\n"
     ]
    }
   ],
   "source": [
    "#6. Write a python program to reverse a string without using builtin methods\n",
    "\n",
    "\n",
    "def reverse(s):\n",
    "  str = \"\"\n",
    "  for i in s:\n",
    "    str = i + str\n",
    "  return str\n",
    "  \n",
    "s = \"Hello Hi Good Morning\"\n",
    "  \n",
    "print (\"The original string  is : \",end=\"\")\n",
    "print (s)\n",
    "  \n",
    "print (\"The reversed string(using loops) is : \",end=\"\")\n",
    "print (reverse(s))"
   ]
  },
  {
   "cell_type": "code",
   "execution_count": null,
   "id": "7892a894",
   "metadata": {},
   "outputs": [],
   "source": []
  }
 ],
 "metadata": {
  "kernelspec": {
   "display_name": "Python 3 (ipykernel)",
   "language": "python",
   "name": "python3"
  },
  "language_info": {
   "codemirror_mode": {
    "name": "ipython",
    "version": 3
   },
   "file_extension": ".py",
   "mimetype": "text/x-python",
   "name": "python",
   "nbconvert_exporter": "python",
   "pygments_lexer": "ipython3",
   "version": "3.9.7"
  }
 },
 "nbformat": 4,
 "nbformat_minor": 5
}
