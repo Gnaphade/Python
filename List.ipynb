{
 "cells": [
  {
   "cell_type": "raw",
   "id": "fa25b1dc",
   "metadata": {},
   "source": []
  },
  {
   "cell_type": "raw",
   "id": "f572cf11",
   "metadata": {},
   "source": []
  },
  {
   "cell_type": "code",
   "execution_count": 1,
   "id": "59432503",
   "metadata": {},
   "outputs": [
    {
     "name": "stdout",
     "output_type": "stream",
     "text": [
      "Sum of all elementsin given list: 165\n"
     ]
    }
   ],
   "source": [
    "#1. sum of all numbers\n",
    "sum=0\n",
    "list=[11,22,33,44,55]\n",
    "for element in range(0,len(list)):\n",
    "    sum=sum+ list[element]\n",
    "print(\"Sum of all elementsin given list:\",sum)    "
   ]
  },
  {
   "cell_type": "code",
   "execution_count": 2,
   "id": "fcbf544b",
   "metadata": {},
   "outputs": [
    {
     "name": "stdout",
     "output_type": "stream",
     "text": [
      "Largest element is: 707\n"
     ]
    }
   ],
   "source": [
    "#2largest number\n",
    "list =[10,20,99,12,63,707,12]\n",
    "list.sort()\n",
    "print(\"Largest element is:\",list[-1])"
   ]
  },
  {
   "cell_type": "code",
   "execution_count": 3,
   "id": "05dee426",
   "metadata": {},
   "outputs": [],
   "source": [
    "#3common numbers from two list\n",
    "def common_member(a, b):\n",
    "    a_set = set(a)\n",
    "    b_set = set(b)\n",
    " \n",
    "    if (a_set & b_set):\n",
    "        print(a_set & b_set)\n",
    "    else:\n",
    "        print(\"No common elements\")"
   ]
  },
  {
   "cell_type": "code",
   "execution_count": 1,
   "id": "cd41a83f",
   "metadata": {},
   "outputs": [
    {
     "name": "stdout",
     "output_type": "stream",
     "text": [
      "10 70 90 "
     ]
    }
   ],
   "source": [
    "#4print all even no\n",
    "list=[10,21,45,70,63,90]\n",
    "for num in list:\n",
    "    if num%2==0:\n",
    "        print(num,end=\" \")"
   ]
  },
  {
   "cell_type": "code",
   "execution_count": 7,
   "id": "78427923",
   "metadata": {},
   "outputs": [
    {
     "name": "stdout",
     "output_type": "stream",
     "text": [
      "Enter the Starting of the range:5\n",
      "Enter the Ending of the range:90\n",
      "Original Number List: [5, 6, 7, 8, 9, 10, 11, 12, 13, 14, 15, 16, 17, 18, 19, 20, 21, 22, 23, 24, 25, 26, 27, 28, 29, 30, 31, 32, 33, 34, 35, 36, 37, 38, 39, 40, 41, 42, 43, 44, 45, 46, 47, 48, 49, 50, 51, 52, 53, 54, 55, 56, 57, 58, 59, 60, 61, 62, 63, 64, 65, 66, 67, 68, 69, 70, 71, 72, 73, 74, 75, 76, 77, 78, 79, 80, 81, 82, 83, 84, 85, 86, 87, 88, 89]\n",
      "Even Numbers List: [6, 8, 10, 12, 14, 16, 18, 20, 22, 24, 26, 28, 30, 32, 34, 36, 38, 40, 42, 44, 46, 48, 50, 52, 54, 56, 58, 60, 62, 64, 66, 68, 70, 72, 74, 76, 78, 80, 82, 84, 86, 88]\n",
      "Odd Numbers List: [5, 7, 9, 11, 13, 15, 17, 19, 21, 23, 25, 27, 29, 31, 33, 35, 37, 39, 41, 43, 45, 47, 49, 51, 53, 55, 57, 59, 61, 63, 65, 67, 69, 71, 73, 75, 77, 79, 81, 83, 85, 87, 89]\n"
     ]
    }
   ],
   "source": [
    "#5create alist even no and odd no\n",
    "num_list=[]\n",
    "n=int(input(\"Enter the Starting of the range:\"))\n",
    "k=int(input(\"Enter the Ending of the range:\"))\n",
    "for i in range(n,k):\n",
    "  num_list.append(i)\n",
    "print(\"Original Number List:\", num_list)\n",
    "even_list=[]\n",
    "odd_list=[]\n",
    "for i in range(len(num_list)):\n",
    "  if(num_list[i]%2==0):\n",
    "    even_list.append(num_list[i])\n",
    "  else:\n",
    "    odd_list.append(num_list[i])\n",
    "print(\"Even Numbers List:\", even_list)\n",
    "print(\"Odd Numbers List:\", odd_list)"
   ]
  },
  {
   "cell_type": "code",
   "execution_count": 2,
   "id": "3879310a",
   "metadata": {},
   "outputs": [
    {
     "name": "stdout",
     "output_type": "stream",
     "text": [
      "[2, 4, 10, 20, 5]\n"
     ]
    }
   ],
   "source": [
    "#6.Write a python program to remove repeated elements from a given list without using built-in methods\n",
    "def Remove(duplicate):\n",
    "    final_list = []\n",
    "    for num in duplicate:\n",
    "        if num not in final_list:\n",
    "            final_list.append(num)\n",
    "    return final_list\n",
    "     \n",
    "\n",
    "duplicate = [2, 4, 10, 20, 5, 2, 20, 4]\n",
    "print(Remove(duplicate))"
   ]
  },
  {
   "cell_type": "code",
   "execution_count": 1,
   "id": "a6030029",
   "metadata": {},
   "outputs": [
    {
     "name": "stdout",
     "output_type": "stream",
     "text": [
      "pursuing\n",
      "8\n"
     ]
    }
   ],
   "source": [
    "#assignment list 7 longest\n",
    "sentence = \"I am pursuing DBDA in CDAC Chennai\"\n",
    "longest=max(sentence.split(),key=len)\n",
    "print(longest)\n",
    "print(len(longest))"
   ]
  },
  {
   "cell_type": "code",
   "execution_count": 2,
   "id": "96481be1",
   "metadata": {},
   "outputs": [
    {
     "name": "stdout",
     "output_type": "stream",
     "text": [
      "Enter number\n",
      "5\n",
      "N is occuring 2 times\n"
     ]
    }
   ],
   "source": [
    "#8\n",
    "num=[1,2,5,8,6,9,3,5,8,9]\n",
    "N= int(input(\"Enter number\\n\"))\n",
    "sum=0\n",
    "for i in num:\n",
    "    if i==N:\n",
    "        sum +=1\n",
    "    else:\n",
    "        continue\n",
    "print(\"N is occuring\",sum,\"times\")"
   ]
  },
  {
   "cell_type": "code",
   "execution_count": 1,
   "id": "9ce889ac",
   "metadata": {},
   "outputs": [
    {
     "name": "stdout",
     "output_type": "stream",
     "text": [
      "['com', 'org', 'net', 'in']\n"
     ]
    }
   ],
   "source": [
    "#9. [\"www.zframez.com\", \"www.wikipedia.org\", \"www.asp.net\", \"www.abcd.in\"]\n",
    "#Write a python program to print website suffixes (com , org , net ,in) from this list\n",
    "x=[\"www.zframez.com\", \"www.wikipedia.org\", \"www.asp.net\", \"www.abcd.in\"]\n",
    "z=[]\n",
    "for i in x:\n",
    "    y=list(i.split(\".\"))\n",
    "    z.append(y[-1])\n",
    "print(z)\n",
    "\n",
    "    \n"
   ]
  },
  {
   "cell_type": "code",
   "execution_count": 1,
   "id": "a499f19c",
   "metadata": {},
   "outputs": [
    {
     "name": "stdout",
     "output_type": "stream",
     "text": [
      "[-2, -1, 0, 1, 2, 3, 4]\n"
     ]
    }
   ],
   "source": [
    "#10.\n",
    "my_list = [4, 2, 3, -1, -2, 0, 1]\n",
    "\n",
    "for i in range(len(my_list)):\n",
    "    for j in range(i + 1, len(my_list)):\n",
    "\n",
    "        if my_list[i] > my_list[j]:\n",
    "            my_list[i], my_list[j] = my_list[j], my_list[i]\n",
    "\n",
    "print(my_list)"
   ]
  },
  {
   "cell_type": "code",
   "execution_count": null,
   "id": "e3901cec",
   "metadata": {},
   "outputs": [],
   "source": []
  }
 ],
 "metadata": {
  "kernelspec": {
   "display_name": "Python 3 (ipykernel)",
   "language": "python",
   "name": "python3"
  },
  "language_info": {
   "codemirror_mode": {
    "name": "ipython",
    "version": 3
   },
   "file_extension": ".py",
   "mimetype": "text/x-python",
   "name": "python",
   "nbconvert_exporter": "python",
   "pygments_lexer": "ipython3",
   "version": "3.9.7"
  }
 },
 "nbformat": 4,
 "nbformat_minor": 5
}
