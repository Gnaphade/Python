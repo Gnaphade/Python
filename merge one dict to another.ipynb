{
 "cells": [
  {
   "cell_type": "code",
   "execution_count": 1,
   "id": "880a8e14",
   "metadata": {},
   "outputs": [
    {
     "name": "stdout",
     "output_type": "stream",
     "text": [
      "{1: 'Pink', 2: 'Red', 3: 'Yellow', 4: 'Green'}\n"
     ]
    }
   ],
   "source": [
    "#using update\n",
    "dict1={1:'Pink',2:'Red'}\n",
    "dict2={3:'Yellow',4:'Green'}\n",
    "dict1.update(dict2)\n",
    "print(dict1)"
   ]
  },
  {
   "cell_type": "code",
   "execution_count": 2,
   "id": "080fbd71",
   "metadata": {},
   "outputs": [
    {
     "name": "stdout",
     "output_type": "stream",
     "text": [
      "{1: 'Pink', 2: 'Red', 3: 'Yellow', 4: 'Green'}\n"
     ]
    }
   ],
   "source": [
    "#using **\n",
    "dict1={1:'Pink',2:'Red'}\n",
    "dict2={3:'Yellow',4:'Green'}\n",
    "dict1.update(dict2)\n",
    "\n",
    "dict3={**dict1,**dict2}\n",
    "print(dict3)"
   ]
  },
  {
   "cell_type": "code",
   "execution_count": null,
   "id": "6477a013",
   "metadata": {},
   "outputs": [],
   "source": []
  }
 ],
 "metadata": {
  "kernelspec": {
   "display_name": "Python 3 (ipykernel)",
   "language": "python",
   "name": "python3"
  },
  "language_info": {
   "codemirror_mode": {
    "name": "ipython",
    "version": 3
   },
   "file_extension": ".py",
   "mimetype": "text/x-python",
   "name": "python",
   "nbconvert_exporter": "python",
   "pygments_lexer": "ipython3",
   "version": "3.9.13"
  }
 },
 "nbformat": 4,
 "nbformat_minor": 5
}
