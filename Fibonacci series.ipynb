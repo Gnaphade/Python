{
 "cells": [
  {
   "cell_type": "code",
   "execution_count": 4,
   "id": "73347278",
   "metadata": {},
   "outputs": [
    {
     "name": "stdout",
     "output_type": "stream",
     "text": [
      "0 1 1 2 3 5 8 13 21 34 55 89 144 233 377 610 987 1597 2584 4181 "
     ]
    }
   ],
   "source": [
    "def fib_gen():\n",
    "    a=0\n",
    "    b=1\n",
    "    while True:\n",
    "        c=a\n",
    "        a=b\n",
    "        b=c+a\n",
    "        yield c\n",
    "        \n",
    "f=fib_gen()\n",
    "#print(next(f))\n",
    "for i in range (20):\n",
    "    print(next(f),end=\" \")"
   ]
  },
  {
   "cell_type": "code",
   "execution_count": null,
   "id": "530b4c11",
   "metadata": {},
   "outputs": [],
   "source": []
  }
 ],
 "metadata": {
  "kernelspec": {
   "display_name": "Python 3 (ipykernel)",
   "language": "python",
   "name": "python3"
  },
  "language_info": {
   "codemirror_mode": {
    "name": "ipython",
    "version": 3
   },
   "file_extension": ".py",
   "mimetype": "text/x-python",
   "name": "python",
   "nbconvert_exporter": "python",
   "pygments_lexer": "ipython3",
   "version": "3.9.13"
  }
 },
 "nbformat": 4,
 "nbformat_minor": 5
}
