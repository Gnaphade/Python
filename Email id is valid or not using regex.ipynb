{
 "cells": [
  {
   "cell_type": "code",
   "execution_count": 2,
   "id": "5252fb29",
   "metadata": {},
   "outputs": [
    {
     "name": "stdout",
     "output_type": "stream",
     "text": [
      "Invalid Email Address\n"
     ]
    }
   ],
   "source": [
    "import re\n",
    "\n",
    "def isValidEmail(email):\n",
    "    regex=\"[A-Z0-9]+@[A-Z0-9]+\\.[A-Z]{2,}\"\n",
    "    if len(email)>7:\n",
    "        if re.match(regex,email,re.IGNORECASE) is not None:\n",
    "            return True\n",
    "        \n",
    "if isValidEmail(\"G@#auri96@gmail1.com\"):\n",
    "    print(\"Valid Email Address\")\n",
    "else:\n",
    "    print(\"Invalid Email Address\")\n",
    "        "
   ]
  },
  {
   "cell_type": "code",
   "execution_count": null,
   "id": "81bb7eb5",
   "metadata": {},
   "outputs": [],
   "source": []
  }
 ],
 "metadata": {
  "kernelspec": {
   "display_name": "Python 3 (ipykernel)",
   "language": "python",
   "name": "python3"
  },
  "language_info": {
   "codemirror_mode": {
    "name": "ipython",
    "version": 3
   },
   "file_extension": ".py",
   "mimetype": "text/x-python",
   "name": "python",
   "nbconvert_exporter": "python",
   "pygments_lexer": "ipython3",
   "version": "3.9.13"
  }
 },
 "nbformat": 4,
 "nbformat_minor": 5
}
